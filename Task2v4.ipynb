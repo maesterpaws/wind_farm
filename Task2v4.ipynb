{
  "cells": [
    {
      "cell_type": "markdown",
      "metadata": {
        "id": "view-in-github",
        "colab_type": "text"
      },
      "source": [
        "<a href=\"https://colab.research.google.com/github/maesterpaws/wind_farm/blob/main/Task2v4.ipynb\" target=\"_parent\"><img src=\"https://colab.research.google.com/assets/colab-badge.svg\" alt=\"Open In Colab\"/></a>"
      ]
    },
    {
      "cell_type": "markdown",
      "metadata": {
        "id": "CjdJOYAFYNDe"
      },
      "source": [
        "**Task 2 Advanced Programming**\n",
        "\n",
        "Luisa Ripoll Alberola and Jonathan Askey"
      ]
    },
    {
      "cell_type": "code",
      "execution_count": null,
      "metadata": {
        "id": "6ku-kHjhZJXW"
      },
      "outputs": [],
      "source": [
        "# Import appropriate libraries\n",
        "import pandas as pd\n",
        "import numpy as np\n",
        "import matplotlib.pyplot as plt\n",
        "import math\n",
        "\n",
        "from sklearn import metrics\n",
        "from sklearn import tree\n",
        "from sklearn.metrics import mean_squared_error, make_scorer\n",
        "from sklearn.model_selection import train_test_split, TimeSeriesSplit, cross_val_score, GridSearchCV, KFold\n",
        "from sklearn.base import BaseEstimator, TransformerMixin\n",
        "from sklearn.feature_selection import SelectKBest, f_regression, f_classif, mutual_info_classif\n",
        "from sklearn.pipeline import Pipeline\n",
        "from sklearn.impute import KNNImputer\n",
        "from sklearn.preprocessing import StandardScaler, Normalizer\n",
        "from sklearn.neighbors import KNeighborsRegressor\n",
        "from sklearn.tree import DecisionTreeRegressor\n",
        "from sklearn import set_config\n",
        "\n",
        "import time\n",
        "import joblib"
      ]
    },
    {
      "cell_type": "markdown",
      "metadata": {
        "id": "xXT7TcQBf3YA"
      },
      "source": [
        "# Exploratory Data Analysis"
      ]
    },
    {
      "cell_type": "code",
      "execution_count": null,
      "metadata": {
        "colab": {
          "base_uri": "https://localhost:8080/"
        },
        "id": "v6akga4vY-tt",
        "outputId": "c9c2f23b-dc73-4b61-efea-a5ddea43013a"
      },
      "outputs": [
        {
          "output_type": "stream",
          "name": "stdout",
          "text": [
            "Mounted at /content/drive/\n",
            "/content/drive/MyDrive\n"
          ]
        }
      ],
      "source": [
        "from google.colab import drive\n",
        "\n",
        "# Jon's directory\n",
        "# drive.mount('/content/drive/', force_remount = True)\n",
        "# %cd /content/drive/MyDrive/SecondAssignment_AdvProgramming\n",
        "\n",
        "# Luisa's directory\n",
        "drive.mount('/content/drive/')\n",
        "%cd /content/drive/MyDrive/"
      ]
    },
    {
      "cell_type": "code",
      "execution_count": null,
      "metadata": {
        "colab": {
          "base_uri": "https://localhost:8080/",
          "height": 255
        },
        "id": "ofe5wGiQjukk",
        "outputId": "51307741-c9fd-4e55-b5a9-b4fe50b025de"
      },
      "outputs": [
        {
          "output_type": "execute_result",
          "data": {
            "text/plain": [
              "    energy  year  month  day  hour     p54.162.1     p54.162.2     p54.162.3  \\\n",
              "0   402.71  2005      1    2    18  2.534970e+06  2.526864e+06  2.518754e+06   \n",
              "1   696.80  2005      1    3     0           NaN           NaN  2.521184e+06   \n",
              "2  1591.15  2005      1    3     6  2.533727e+06  2.525703e+06  2.517678e+06   \n",
              "3  1338.62  2005      1    3    12           NaN  2.526548e+06  2.518609e+06   \n",
              "4   562.50  2005      1    3    18  2.529543e+06           NaN  2.513702e+06   \n",
              "\n",
              "      p54.162.4     p54.162.5  ...   v100.16   v100.17   v100.18   v100.19  \\\n",
              "0  2.510648e+06  2.502537e+06  ... -4.683596       NaN -4.407196       NaN   \n",
              "1  2.513088e+06           NaN  ... -3.397886 -3.257192 -3.115998 -2.975304   \n",
              "2  2.509654e+06           NaN  ... -1.454105       NaN -1.138290       NaN   \n",
              "3  2.510670e+06  2.502732e+06  ...  1.255015  1.370265  1.485515  1.600765   \n",
              "4  2.505782e+06  2.497861e+06  ...  1.939031       NaN       NaN  2.193977   \n",
              "\n",
              "    v100.20   v100.21   v100.22   v100.23   v100.24   v100.25  \n",
              "0 -4.131295 -4.669626 -4.528932 -4.388736 -4.248540 -4.107846  \n",
              "1 -2.834609 -3.396390 -3.254198 -3.112506 -2.970314       NaN  \n",
              "2 -0.822476 -1.459094 -1.302933 -1.147271 -0.991110 -0.834949  \n",
              "3  1.716015  1.210612  1.319376  1.428140  1.536405  1.645169  \n",
              "4  2.278793  1.873673  1.953000  2.031829  2.111157  2.189986  \n",
              "\n",
              "[5 rows x 555 columns]"
            ],
            "text/html": [
              "\n",
              "  <div id=\"df-2bccdbe8-c4f8-4c7e-a74c-56caa9ab07b5\" class=\"colab-df-container\">\n",
              "    <div>\n",
              "<style scoped>\n",
              "    .dataframe tbody tr th:only-of-type {\n",
              "        vertical-align: middle;\n",
              "    }\n",
              "\n",
              "    .dataframe tbody tr th {\n",
              "        vertical-align: top;\n",
              "    }\n",
              "\n",
              "    .dataframe thead th {\n",
              "        text-align: right;\n",
              "    }\n",
              "</style>\n",
              "<table border=\"1\" class=\"dataframe\">\n",
              "  <thead>\n",
              "    <tr style=\"text-align: right;\">\n",
              "      <th></th>\n",
              "      <th>energy</th>\n",
              "      <th>year</th>\n",
              "      <th>month</th>\n",
              "      <th>day</th>\n",
              "      <th>hour</th>\n",
              "      <th>p54.162.1</th>\n",
              "      <th>p54.162.2</th>\n",
              "      <th>p54.162.3</th>\n",
              "      <th>p54.162.4</th>\n",
              "      <th>p54.162.5</th>\n",
              "      <th>...</th>\n",
              "      <th>v100.16</th>\n",
              "      <th>v100.17</th>\n",
              "      <th>v100.18</th>\n",
              "      <th>v100.19</th>\n",
              "      <th>v100.20</th>\n",
              "      <th>v100.21</th>\n",
              "      <th>v100.22</th>\n",
              "      <th>v100.23</th>\n",
              "      <th>v100.24</th>\n",
              "      <th>v100.25</th>\n",
              "    </tr>\n",
              "  </thead>\n",
              "  <tbody>\n",
              "    <tr>\n",
              "      <th>0</th>\n",
              "      <td>402.71</td>\n",
              "      <td>2005</td>\n",
              "      <td>1</td>\n",
              "      <td>2</td>\n",
              "      <td>18</td>\n",
              "      <td>2.534970e+06</td>\n",
              "      <td>2.526864e+06</td>\n",
              "      <td>2.518754e+06</td>\n",
              "      <td>2.510648e+06</td>\n",
              "      <td>2.502537e+06</td>\n",
              "      <td>...</td>\n",
              "      <td>-4.683596</td>\n",
              "      <td>NaN</td>\n",
              "      <td>-4.407196</td>\n",
              "      <td>NaN</td>\n",
              "      <td>-4.131295</td>\n",
              "      <td>-4.669626</td>\n",
              "      <td>-4.528932</td>\n",
              "      <td>-4.388736</td>\n",
              "      <td>-4.248540</td>\n",
              "      <td>-4.107846</td>\n",
              "    </tr>\n",
              "    <tr>\n",
              "      <th>1</th>\n",
              "      <td>696.80</td>\n",
              "      <td>2005</td>\n",
              "      <td>1</td>\n",
              "      <td>3</td>\n",
              "      <td>0</td>\n",
              "      <td>NaN</td>\n",
              "      <td>NaN</td>\n",
              "      <td>2.521184e+06</td>\n",
              "      <td>2.513088e+06</td>\n",
              "      <td>NaN</td>\n",
              "      <td>...</td>\n",
              "      <td>-3.397886</td>\n",
              "      <td>-3.257192</td>\n",
              "      <td>-3.115998</td>\n",
              "      <td>-2.975304</td>\n",
              "      <td>-2.834609</td>\n",
              "      <td>-3.396390</td>\n",
              "      <td>-3.254198</td>\n",
              "      <td>-3.112506</td>\n",
              "      <td>-2.970314</td>\n",
              "      <td>NaN</td>\n",
              "    </tr>\n",
              "    <tr>\n",
              "      <th>2</th>\n",
              "      <td>1591.15</td>\n",
              "      <td>2005</td>\n",
              "      <td>1</td>\n",
              "      <td>3</td>\n",
              "      <td>6</td>\n",
              "      <td>2.533727e+06</td>\n",
              "      <td>2.525703e+06</td>\n",
              "      <td>2.517678e+06</td>\n",
              "      <td>2.509654e+06</td>\n",
              "      <td>NaN</td>\n",
              "      <td>...</td>\n",
              "      <td>-1.454105</td>\n",
              "      <td>NaN</td>\n",
              "      <td>-1.138290</td>\n",
              "      <td>NaN</td>\n",
              "      <td>-0.822476</td>\n",
              "      <td>-1.459094</td>\n",
              "      <td>-1.302933</td>\n",
              "      <td>-1.147271</td>\n",
              "      <td>-0.991110</td>\n",
              "      <td>-0.834949</td>\n",
              "    </tr>\n",
              "    <tr>\n",
              "      <th>3</th>\n",
              "      <td>1338.62</td>\n",
              "      <td>2005</td>\n",
              "      <td>1</td>\n",
              "      <td>3</td>\n",
              "      <td>12</td>\n",
              "      <td>NaN</td>\n",
              "      <td>2.526548e+06</td>\n",
              "      <td>2.518609e+06</td>\n",
              "      <td>2.510670e+06</td>\n",
              "      <td>2.502732e+06</td>\n",
              "      <td>...</td>\n",
              "      <td>1.255015</td>\n",
              "      <td>1.370265</td>\n",
              "      <td>1.485515</td>\n",
              "      <td>1.600765</td>\n",
              "      <td>1.716015</td>\n",
              "      <td>1.210612</td>\n",
              "      <td>1.319376</td>\n",
              "      <td>1.428140</td>\n",
              "      <td>1.536405</td>\n",
              "      <td>1.645169</td>\n",
              "    </tr>\n",
              "    <tr>\n",
              "      <th>4</th>\n",
              "      <td>562.50</td>\n",
              "      <td>2005</td>\n",
              "      <td>1</td>\n",
              "      <td>3</td>\n",
              "      <td>18</td>\n",
              "      <td>2.529543e+06</td>\n",
              "      <td>NaN</td>\n",
              "      <td>2.513702e+06</td>\n",
              "      <td>2.505782e+06</td>\n",
              "      <td>2.497861e+06</td>\n",
              "      <td>...</td>\n",
              "      <td>1.939031</td>\n",
              "      <td>NaN</td>\n",
              "      <td>NaN</td>\n",
              "      <td>2.193977</td>\n",
              "      <td>2.278793</td>\n",
              "      <td>1.873673</td>\n",
              "      <td>1.953000</td>\n",
              "      <td>2.031829</td>\n",
              "      <td>2.111157</td>\n",
              "      <td>2.189986</td>\n",
              "    </tr>\n",
              "  </tbody>\n",
              "</table>\n",
              "<p>5 rows × 555 columns</p>\n",
              "</div>\n",
              "    <div class=\"colab-df-buttons\">\n",
              "\n",
              "  <div class=\"colab-df-container\">\n",
              "    <button class=\"colab-df-convert\" onclick=\"convertToInteractive('df-2bccdbe8-c4f8-4c7e-a74c-56caa9ab07b5')\"\n",
              "            title=\"Convert this dataframe to an interactive table.\"\n",
              "            style=\"display:none;\">\n",
              "\n",
              "  <svg xmlns=\"http://www.w3.org/2000/svg\" height=\"24px\" viewBox=\"0 -960 960 960\">\n",
              "    <path d=\"M120-120v-720h720v720H120Zm60-500h600v-160H180v160Zm220 220h160v-160H400v160Zm0 220h160v-160H400v160ZM180-400h160v-160H180v160Zm440 0h160v-160H620v160ZM180-180h160v-160H180v160Zm440 0h160v-160H620v160Z\"/>\n",
              "  </svg>\n",
              "    </button>\n",
              "\n",
              "  <style>\n",
              "    .colab-df-container {\n",
              "      display:flex;\n",
              "      gap: 12px;\n",
              "    }\n",
              "\n",
              "    .colab-df-convert {\n",
              "      background-color: #E8F0FE;\n",
              "      border: none;\n",
              "      border-radius: 50%;\n",
              "      cursor: pointer;\n",
              "      display: none;\n",
              "      fill: #1967D2;\n",
              "      height: 32px;\n",
              "      padding: 0 0 0 0;\n",
              "      width: 32px;\n",
              "    }\n",
              "\n",
              "    .colab-df-convert:hover {\n",
              "      background-color: #E2EBFA;\n",
              "      box-shadow: 0px 1px 2px rgba(60, 64, 67, 0.3), 0px 1px 3px 1px rgba(60, 64, 67, 0.15);\n",
              "      fill: #174EA6;\n",
              "    }\n",
              "\n",
              "    .colab-df-buttons div {\n",
              "      margin-bottom: 4px;\n",
              "    }\n",
              "\n",
              "    [theme=dark] .colab-df-convert {\n",
              "      background-color: #3B4455;\n",
              "      fill: #D2E3FC;\n",
              "    }\n",
              "\n",
              "    [theme=dark] .colab-df-convert:hover {\n",
              "      background-color: #434B5C;\n",
              "      box-shadow: 0px 1px 3px 1px rgba(0, 0, 0, 0.15);\n",
              "      filter: drop-shadow(0px 1px 2px rgba(0, 0, 0, 0.3));\n",
              "      fill: #FFFFFF;\n",
              "    }\n",
              "  </style>\n",
              "\n",
              "    <script>\n",
              "      const buttonEl =\n",
              "        document.querySelector('#df-2bccdbe8-c4f8-4c7e-a74c-56caa9ab07b5 button.colab-df-convert');\n",
              "      buttonEl.style.display =\n",
              "        google.colab.kernel.accessAllowed ? 'block' : 'none';\n",
              "\n",
              "      async function convertToInteractive(key) {\n",
              "        const element = document.querySelector('#df-2bccdbe8-c4f8-4c7e-a74c-56caa9ab07b5');\n",
              "        const dataTable =\n",
              "          await google.colab.kernel.invokeFunction('convertToInteractive',\n",
              "                                                    [key], {});\n",
              "        if (!dataTable) return;\n",
              "\n",
              "        const docLinkHtml = 'Like what you see? Visit the ' +\n",
              "          '<a target=\"_blank\" href=https://colab.research.google.com/notebooks/data_table.ipynb>data table notebook</a>'\n",
              "          + ' to learn more about interactive tables.';\n",
              "        element.innerHTML = '';\n",
              "        dataTable['output_type'] = 'display_data';\n",
              "        await google.colab.output.renderOutput(dataTable, element);\n",
              "        const docLink = document.createElement('div');\n",
              "        docLink.innerHTML = docLinkHtml;\n",
              "        element.appendChild(docLink);\n",
              "      }\n",
              "    </script>\n",
              "  </div>\n",
              "\n",
              "\n",
              "<div id=\"df-672b0636-6603-443f-b751-1e12169a329d\">\n",
              "  <button class=\"colab-df-quickchart\" onclick=\"quickchart('df-672b0636-6603-443f-b751-1e12169a329d')\"\n",
              "            title=\"Suggest charts\"\n",
              "            style=\"display:none;\">\n",
              "\n",
              "<svg xmlns=\"http://www.w3.org/2000/svg\" height=\"24px\"viewBox=\"0 0 24 24\"\n",
              "     width=\"24px\">\n",
              "    <g>\n",
              "        <path d=\"M19 3H5c-1.1 0-2 .9-2 2v14c0 1.1.9 2 2 2h14c1.1 0 2-.9 2-2V5c0-1.1-.9-2-2-2zM9 17H7v-7h2v7zm4 0h-2V7h2v10zm4 0h-2v-4h2v4z\"/>\n",
              "    </g>\n",
              "</svg>\n",
              "  </button>\n",
              "\n",
              "<style>\n",
              "  .colab-df-quickchart {\n",
              "      --bg-color: #E8F0FE;\n",
              "      --fill-color: #1967D2;\n",
              "      --hover-bg-color: #E2EBFA;\n",
              "      --hover-fill-color: #174EA6;\n",
              "      --disabled-fill-color: #AAA;\n",
              "      --disabled-bg-color: #DDD;\n",
              "  }\n",
              "\n",
              "  [theme=dark] .colab-df-quickchart {\n",
              "      --bg-color: #3B4455;\n",
              "      --fill-color: #D2E3FC;\n",
              "      --hover-bg-color: #434B5C;\n",
              "      --hover-fill-color: #FFFFFF;\n",
              "      --disabled-bg-color: #3B4455;\n",
              "      --disabled-fill-color: #666;\n",
              "  }\n",
              "\n",
              "  .colab-df-quickchart {\n",
              "    background-color: var(--bg-color);\n",
              "    border: none;\n",
              "    border-radius: 50%;\n",
              "    cursor: pointer;\n",
              "    display: none;\n",
              "    fill: var(--fill-color);\n",
              "    height: 32px;\n",
              "    padding: 0;\n",
              "    width: 32px;\n",
              "  }\n",
              "\n",
              "  .colab-df-quickchart:hover {\n",
              "    background-color: var(--hover-bg-color);\n",
              "    box-shadow: 0 1px 2px rgba(60, 64, 67, 0.3), 0 1px 3px 1px rgba(60, 64, 67, 0.15);\n",
              "    fill: var(--button-hover-fill-color);\n",
              "  }\n",
              "\n",
              "  .colab-df-quickchart-complete:disabled,\n",
              "  .colab-df-quickchart-complete:disabled:hover {\n",
              "    background-color: var(--disabled-bg-color);\n",
              "    fill: var(--disabled-fill-color);\n",
              "    box-shadow: none;\n",
              "  }\n",
              "\n",
              "  .colab-df-spinner {\n",
              "    border: 2px solid var(--fill-color);\n",
              "    border-color: transparent;\n",
              "    border-bottom-color: var(--fill-color);\n",
              "    animation:\n",
              "      spin 1s steps(1) infinite;\n",
              "  }\n",
              "\n",
              "  @keyframes spin {\n",
              "    0% {\n",
              "      border-color: transparent;\n",
              "      border-bottom-color: var(--fill-color);\n",
              "      border-left-color: var(--fill-color);\n",
              "    }\n",
              "    20% {\n",
              "      border-color: transparent;\n",
              "      border-left-color: var(--fill-color);\n",
              "      border-top-color: var(--fill-color);\n",
              "    }\n",
              "    30% {\n",
              "      border-color: transparent;\n",
              "      border-left-color: var(--fill-color);\n",
              "      border-top-color: var(--fill-color);\n",
              "      border-right-color: var(--fill-color);\n",
              "    }\n",
              "    40% {\n",
              "      border-color: transparent;\n",
              "      border-right-color: var(--fill-color);\n",
              "      border-top-color: var(--fill-color);\n",
              "    }\n",
              "    60% {\n",
              "      border-color: transparent;\n",
              "      border-right-color: var(--fill-color);\n",
              "    }\n",
              "    80% {\n",
              "      border-color: transparent;\n",
              "      border-right-color: var(--fill-color);\n",
              "      border-bottom-color: var(--fill-color);\n",
              "    }\n",
              "    90% {\n",
              "      border-color: transparent;\n",
              "      border-bottom-color: var(--fill-color);\n",
              "    }\n",
              "  }\n",
              "</style>\n",
              "\n",
              "  <script>\n",
              "    async function quickchart(key) {\n",
              "      const quickchartButtonEl =\n",
              "        document.querySelector('#' + key + ' button');\n",
              "      quickchartButtonEl.disabled = true;  // To prevent multiple clicks.\n",
              "      quickchartButtonEl.classList.add('colab-df-spinner');\n",
              "      try {\n",
              "        const charts = await google.colab.kernel.invokeFunction(\n",
              "            'suggestCharts', [key], {});\n",
              "      } catch (error) {\n",
              "        console.error('Error during call to suggestCharts:', error);\n",
              "      }\n",
              "      quickchartButtonEl.classList.remove('colab-df-spinner');\n",
              "      quickchartButtonEl.classList.add('colab-df-quickchart-complete');\n",
              "    }\n",
              "    (() => {\n",
              "      let quickchartButtonEl =\n",
              "        document.querySelector('#df-672b0636-6603-443f-b751-1e12169a329d button');\n",
              "      quickchartButtonEl.style.display =\n",
              "        google.colab.kernel.accessAllowed ? 'block' : 'none';\n",
              "    })();\n",
              "  </script>\n",
              "</div>\n",
              "    </div>\n",
              "  </div>\n"
            ]
          },
          "metadata": {},
          "execution_count": 4
        }
      ],
      "source": [
        "data = pd.read_csv('wind_available.csv.gzip', compression=\"gzip\")\n",
        "data.head()"
      ]
    },
    {
      "cell_type": "markdown",
      "metadata": {
        "id": "fhK5XU5DgsPW"
      },
      "source": [
        "*   t2m: 2 metre temperature\n",
        "*   u10: 10 metre U wind component\n",
        "*   v10: 10 metre V wind component\n",
        "*   u100: 100 metre U wind component\n",
        "*   v100: 100 metre V wind component\n",
        "*   cape: Convective available potential energy\n",
        "*   flsr: Forecast logarithm of surface roughness for heat\n",
        "*   fsr: Forecast surface roughness\n",
        "*   iews: Instantaneous eastward turbulent surface stress\n",
        "*   inss: Instantaneous northward turbulent surface\n",
        "*   lai_hv: Leaf area index, high vegetation\n",
        "*   lai_lv: Leaf area index, low vegetation\n",
        "*   u10n: Neutral wind at 10 m u-component\n",
        "*   v10n: Neutral wind at 10 m v-component\n",
        "*   stl1: Soil temperature level 1\n",
        "*   stl2: Soil temperature level 2\n",
        "*   stl3: Soil temperature level 3\n",
        "*   stl4: Soil temperature level 4\n",
        "*   sp: Surface pressure\n",
        "*   p54.162: Vertical integral of temperature\n",
        "*   p59.162: Vertical integral of divergence of kinetic energy\n",
        "*   p55.162: Vertical integral of water vapour\n",
        "\n",
        "All these 22 variables are numerical. In fact, our dataset has 22x25=550 columns, as each variable is measured in each of the 25 portions of our study area. We see there are four observations per day, every 6 hours starting at midnight.\n",
        "\n",
        "We want to study the energy production (which is a numerical variable, in kWh or a similar unit), and be able to predict the energy productions of a given day. Then, we are dealing with a regression problem.\n"
      ]
    },
    {
      "cell_type": "code",
      "execution_count": null,
      "metadata": {
        "colab": {
          "base_uri": "https://localhost:8080/"
        },
        "id": "V7alwit5oa08",
        "outputId": "cdc710e1-b6b9-4b15-edad-e77f3ee7904b"
      },
      "outputs": [
        {
          "output_type": "execute_result",
          "data": {
            "text/plain": [
              "0"
            ]
          },
          "metadata": {},
          "execution_count": 5
        }
      ],
      "source": [
        "# study of constant columns\n",
        "sum(data.nunique() == 1)"
      ]
    },
    {
      "cell_type": "markdown",
      "metadata": {
        "id": "vn0cPkVizsz5"
      },
      "source": [
        "There are not constant columns."
      ]
    },
    {
      "cell_type": "code",
      "execution_count": null,
      "metadata": {
        "id": "ER3g-uCDm47B"
      },
      "outputs": [],
      "source": [
        "# Set Pandas display options to show all rows and columns\n",
        "pd.set_option('display.max_rows', None)\n",
        "pd.set_option('display.max_columns', None)\n",
        "\n",
        "# Reset display options to default values\n",
        "# pd.reset_option('display.max_rows')\n",
        "# pd.reset_option('display.max_columns')\n",
        "\n",
        "# Number of NaNs per column\n",
        "# data.isna().sum()"
      ]
    },
    {
      "cell_type": "markdown",
      "metadata": {
        "id": "SGgxC8DKm5YX"
      },
      "source": [
        "As there is a considerable amount of NaNs, we will have to correct them. Is it correct to fill the NaNs with the mean? The reality is maybe there is a more correct way to deal with this: as our data is temporal, maybe a better solution is to take the last value. For this purpose, we will study the mean and frequency table of \"p54.162.1\", for example.\n",
        "\n",
        "\"p54.162.1\" has 372 NaN values. Its mean is around 2.51E6. However, if we study its histogram, we see it follows a distribution in which higher and lower values exist in great amount. This also occurs in the observations taken for the same hour."
      ]
    },
    {
      "cell_type": "code",
      "execution_count": null,
      "metadata": {
        "colab": {
          "base_uri": "https://localhost:8080/"
        },
        "id": "xRCMA0VkoH4n",
        "outputId": "056276a5-72d6-4c02-e671-3f2553f4973d"
      },
      "outputs": [
        {
          "output_type": "execute_result",
          "data": {
            "text/plain": [
              "2512664.2240877515"
            ]
          },
          "metadata": {},
          "execution_count": 7
        }
      ],
      "source": [
        "# data['p54.162.1'].isna().sum()\n",
        "data['p54.162.1'].mean()"
      ]
    },
    {
      "cell_type": "code",
      "execution_count": null,
      "metadata": {
        "colab": {
          "base_uri": "https://localhost:8080/",
          "height": 472
        },
        "id": "FI72s24pwEPk",
        "outputId": "ff86ea3a-d521-4a5b-f309-288bc5a35aa8"
      },
      "outputs": [
        {
          "output_type": "display_data",
          "data": {
            "text/plain": [
              "<Figure size 640x480 with 2 Axes>"
            ],
            "image/png": "[encoded data removed]"
          },
          "metadata": {}
        }
      ],
      "source": [
        "rows, cols = 1, 2\n",
        "\n",
        "# histogram of one variable\n",
        "plt.subplot(rows, cols, 1)\n",
        "plt.hist(data['p54.162.1'])\n",
        "plt.xlabel('p54.162.1')\n",
        "plt.ylabel('Frequency')\n",
        "plt.title('Histogram of p54.162.1')\n",
        "\n",
        "# histogram of 'p54.162.1' in hour 6\n",
        "# Filter data for hour == 6\n",
        "data_hour6 = data[data['hour'] == 6]\n",
        "\n",
        "# Extract values for the variable p54.162.1\n",
        "p54_values = data_hour6['p54.162.1']\n",
        "\n",
        "plt.subplot(rows, cols, 2)\n",
        "plt.hist(p54_values)\n",
        "plt.xlabel('p54.162.1')\n",
        "plt.title('Histogram of p54.162.1 at hour 6')\n",
        "plt.show()"
      ]
    },
    {
      "cell_type": "markdown",
      "metadata": {
        "id": "Lp1h7Gqt16Oq"
      },
      "source": [
        "As the data of certain observation depends more on the previous observation than on other observations of the same hour in other days, we are going to interpolate the missing values. This is the most suitable option for the characteristics of our data."
      ]
    },
    {
      "cell_type": "code",
      "execution_count": null,
      "metadata": {
        "id": "BYtrjwHe1ICI",
        "colab": {
          "base_uri": "https://localhost:8080/"
        },
        "outputId": "215f3b81-f127-4a9b-f620-defe2f33a193"
      },
      "outputs": [
        {
          "output_type": "execute_result",
          "data": {
            "text/plain": [
              "0"
            ]
          },
          "metadata": {},
          "execution_count": 9
        }
      ],
      "source": [
        "# data[data.columns[4:6]]\n",
        "data1 = data.interpolate(method='linear', limit_direction='both')\n",
        "sum(data1.isna().sum() !=0)"
      ]
    },
    {
      "cell_type": "markdown",
      "metadata": {
        "id": "aT8LYw77f657"
      },
      "source": [
        "# Train-test split"
      ]
    },
    {
      "cell_type": "markdown",
      "metadata": {
        "id": "5iRfnJ765VDK"
      },
      "source": [
        "Our data is not i.i.d. because of having temporal order, so we won't randomly shuffle it before doing the partition, as we saw in class."
      ]
    },
    {
      "cell_type": "code",
      "execution_count": null,
      "metadata": {
        "id": "ObY8zyuigBEZ"
      },
      "outputs": [],
      "source": [
        "# Calculate number of values for train and test partitions\n",
        "n_train = math.ceil(len(data1) * 0.7)\n",
        "n_test = len(data1) - n_train\n",
        "\n",
        "# Split data set into train and test partitions\n",
        "train = data1.head(n_train)\n",
        "test = data1.tail(n_test)\n",
        "\n",
        "# Separate predictors from response variable for training set\n",
        "y_train = train[['energy']].copy()\n",
        "X_train = train.drop('energy', axis=1)\n",
        "\n",
        "# Separate predictors from response variable for testing set\n",
        "y_test = test[['energy']].copy()\n",
        "X_test = test.drop('energy', axis=1)"
      ]
    },
    {
      "cell_type": "markdown",
      "metadata": {
        "id": "YzrswD-r3P-w"
      },
      "source": [
        "As we are dealing with a regression problem, we will use the metric Root Mean Squared Error (RMSE)."
      ]
    },
    {
      "cell_type": "markdown",
      "metadata": {
        "id": "SGIOIsef3xjh"
      },
      "source": [
        "# Trees and KNN"
      ]
    },
    {
      "cell_type": "markdown",
      "source": [
        "Using default hyper-parameters, evaluate Trees and KNN on the testing partition. For KNN, you should use a pipeline with preprocessing included (scaling, at least). You can compare 2 scaling methods for KNN."
      ],
      "metadata": {
        "id": "iltTQCg2JWQH"
      }
    },
    {
      "cell_type": "code",
      "execution_count": null,
      "metadata": {
        "colab": {
          "base_uri": "https://localhost:8080/"
        },
        "id": "pD4vicKJ3wzc",
        "outputId": "b18db003-0b0b-4c02-9a0a-6eae1c1fe4d3"
      },
      "outputs": [
        {
          "output_type": "stream",
          "name": "stdout",
          "text": [
            "Training time for Tree w/o HPO: 2.5952\n",
            "Training time for KNN StandardScaler(): 0.0961\n",
            "Training time for KNN Normalizer(): 0.0820\n",
            "{'memory': None, 'steps': [('impute', KNNImputer()), ('scaler', Normalizer()), ('knn', KNeighborsRegressor())], 'verbose': False, 'impute': KNNImputer(), 'scaler': Normalizer(), 'knn': KNeighborsRegressor(), 'impute__add_indicator': False, 'impute__copy': True, 'impute__keep_empty_features': False, 'impute__metric': 'nan_euclidean', 'impute__missing_values': nan, 'impute__n_neighbors': 5, 'impute__weights': 'uniform', 'scaler__copy': True, 'scaler__norm': 'l2', 'knn__algorithm': 'auto', 'knn__leaf_size': 30, 'knn__metric': 'minkowski', 'knn__metric_params': None, 'knn__n_jobs': None, 'knn__n_neighbors': 5, 'knn__p': 2, 'knn__weights': 'uniform'}\n",
            "RMSE for Trees: 540.7988\n",
            "RMSE for KNN with StandardScaler: 461.8398\n",
            "RMSE for KNN with Normalizer(): 653.8005\n"
          ]
        }
      ],
      "source": [
        "# Run Trees\n",
        "clf = tree.DecisionTreeRegressor()\n",
        "ttime_tree_1_start = time.time()\n",
        "clf.fit(X_train, y_train)\n",
        "ttime_tree_1_fin = time.time()\n",
        "ttime_tree_1 = ttime_tree_1_fin - ttime_tree_1_start\n",
        "print(f\"Training time for Tree w/o HPO: {ttime_tree_1:.4f}\")\n",
        "\n",
        "y_test_pred = clf.predict(X_test)\n",
        "\n",
        "# Create a pipeline for KNN with StandardScaler\n",
        "pipeline = Pipeline([\n",
        "    ('impute', KNNImputer()),\n",
        "    ('scaler', StandardScaler()),\n",
        "    # ('selector', SelectKBest(score_func=f_regression, k=5)),\n",
        "    ('knn', KNeighborsRegressor())\n",
        "])\n",
        "\n",
        "# Flatten the response variable y\n",
        "y_flattened = y_train.values.ravel()\n",
        "\n",
        "# Fit the pipeline with training data\n",
        "ttime_knn_std_start = time.time()\n",
        "pipeline.fit(X_train, y_flattened)\n",
        "ttime_knn_std_fin = time.time()\n",
        "ttime_knn_std = ttime_knn_std_fin - ttime_knn_std_start\n",
        "print(f\"Training time for KNN StandardScaler(): {ttime_knn_std:.4f}\")\n",
        "\n",
        "# Make predictions on the test set using the pipeline\n",
        "y_test_pred2 = pipeline.predict(X_test)\n",
        "\n",
        "# Repeat the process using a different scaler (Normalizer in this case)\n",
        "pipeline2 = Pipeline([\n",
        "    ('impute', KNNImputer()),\n",
        "    ('scaler', Normalizer()),\n",
        "    # ('selector', SelectKBest(score_func=f_regression, k=5)),\n",
        "    ('knn', KNeighborsRegressor())\n",
        "])\n",
        "\n",
        "ttime_knn_norm_start = time.time()\n",
        "pipeline2.fit(X_train, y_flattened)\n",
        "ttime_knn_norm_fin = time.time()\n",
        "ttime_knn_norm = ttime_knn_norm_fin - ttime_knn_norm_start\n",
        "print(f\"Training time for KNN Normalizer(): {ttime_knn_norm:.4f}\")\n",
        "\n",
        "y_test_pred3 = pipeline2.predict(X_test)\n",
        "print(pipeline2.get_params())\n",
        "\n",
        "# Calculate RMSE for Trees\n",
        "rmse1 = np.sqrt(mean_squared_error(y_test, y_test_pred))\n",
        "print(f\"RMSE for Trees: {rmse1:.4f}\")\n",
        "\n",
        "# Calculate RMSE for KNN with StandardScaler()\n",
        "rmse2 = np.sqrt(mean_squared_error(y_test, y_test_pred2))\n",
        "print(f\"RMSE for KNN with StandardScaler: {rmse2:.4f}\")\n",
        "\n",
        "# Calculate RMSE for KNN with Normalizer()\n",
        "rmse3 = np.sqrt(mean_squared_error(y_test, y_test_pred3))\n",
        "print(f\"RMSE for KNN with Normalizer(): {rmse3:.4f}\")"
      ]
    },
    {
      "cell_type": "markdown",
      "metadata": {
        "id": "wfOQ_wbo2Lmv"
      },
      "source": [
        "The best RMSE was obtained using KNN with the standard scaler. We see the difference between using the standard scaler and the normalizer is high. KNN with standard scaler, using all features, has a better performance than trees."
      ]
    },
    {
      "cell_type": "markdown",
      "metadata": {
        "id": "6RJ73D-q4n6B"
      },
      "source": [
        "# Hyper-Parameter Optimization (HPO)"
      ]
    },
    {
      "cell_type": "markdown",
      "source": [
        "Now, do hyper-parameter tuning (HPO) for trees and KNN. Report a summary (use a table) of your results so far and draw some conclusions about accuracy results, comparing the evaluation of all alternatives tested."
      ],
      "metadata": {
        "id": "VCWWkrMpMpWT"
      }
    },
    {
      "cell_type": "markdown",
      "source": [
        "We will do the hyper-parameter tuning using pipelines. We will compute grid search, as it is a more thorough analysis, evaluating all possible combinations. In the k-fold imputation, it is selected the option shuffle = False, because we are dealing with temporal data."
      ],
      "metadata": {
        "id": "vuGOOQvUM5I8"
      }
    },
    {
      "cell_type": "code",
      "execution_count": null,
      "metadata": {
        "colab": {
          "base_uri": "https://localhost:8080/"
        },
        "id": "WRLh8rmF2kKi",
        "outputId": "f501f643-e736-46cb-f53b-81a715375a64"
      },
      "outputs": [
        {
          "output_type": "stream",
          "name": "stdout",
          "text": [
            "Fitting 5 folds for each of 36 candidates, totalling 180 fits\n",
            "RMSE for Trees: 487.5173\n",
            "Best Hyperparameters for Decision Trees: {'tree__max_depth': 10, 'tree__min_samples_leaf': 4, 'tree__min_samples_split': 5}\n",
            "Best Score for Decision Trees: -448.1939614667334\n",
            "Fitting 5 folds for each of 6 candidates, totalling 30 fits\n",
            "RMSE for KNN: 622.0769\n",
            "Best Hyperparameters for KNN: {'knn_regression__n_neighbors': 21}\n",
            "Best Score for KNN: -596.1653869738304\n"
          ]
        }
      ],
      "source": [
        "## Trees\n",
        "\n",
        "# Define pipeline\n",
        "dt_pipeline = Pipeline([\n",
        "    ('impute', KNNImputer()),\n",
        "    ('tree', DecisionTreeRegressor())\n",
        "])\n",
        "\n",
        "# Define hyper-parameter space\n",
        "dt_param_grid = {\n",
        "    'tree__max_depth': [None, 10, 20, 30],\n",
        "    'tree__min_samples_split': [2, 5, 10],\n",
        "    'tree__min_samples_leaf': [1, 2, 4]\n",
        "}\n",
        "\n",
        "# Define a 5-fold cross-validation grid-search\n",
        "dt_inner_cv = KFold(n_splits=5, shuffle=False)\n",
        "dt_grid = GridSearchCV(dt_pipeline,\n",
        "                       dt_param_grid,\n",
        "                       scoring='neg_root_mean_squared_error',\n",
        "                       cv=dt_inner_cv, n_jobs=1, verbose=1)\n",
        "ttime_tree_hpo_start = time.time()\n",
        "dt_grid = dt_grid.fit(X_train, y_train.values.ravel())\n",
        "ttime_tree_hpo_fin = time.time()\n",
        "ttime_tree_hpo = ttime_tree_hpo_fin - ttime_tree_hpo_start\n",
        "\n",
        "# Predict on test set\n",
        "y_test_pred_dt = dt_grid.predict(X_test)\n",
        "\n",
        "# Calculate RMSE for Trees\n",
        "rmse_dt = np.sqrt(mean_squared_error(y_test, y_test_pred_dt))\n",
        "print(f\"RMSE for Trees: {rmse_dt:.4f}\")\n",
        "\n",
        "# Return best hyper-parameters\n",
        "print(\"Best Hyperparameters for Decision Trees:\", dt_grid.best_params_)\n",
        "print(\"Best Score for Decision Trees:\", dt_grid.best_score_)\n",
        "\n",
        "## KNN\n",
        "\n",
        "# Define steps in the pipeline\n",
        "imputer = KNNImputer()\n",
        "scaler = StandardScaler()\n",
        "selector = SelectKBest(score_func=f_regression)\n",
        "knn = KNeighborsRegressor()\n",
        "\n",
        "# Define the pipeline\n",
        "knn_pipeline = Pipeline([\n",
        "    ('impute', imputer),\n",
        "    ('scaler', scaler),\n",
        "    ('select', selector),\n",
        "    ('knn_regression', knn)\n",
        "])\n",
        "\n",
        "# Define hyper-parameter space\n",
        "knn_param_grid = {\n",
        "    # 'select__k': [2, 10, 15],\n",
        "    'knn_regression__n_neighbors': [1, 3, 5, 7, 15, 21]\n",
        "}\n",
        "\n",
        "# Define a 5-fold cross-validation grid-search\n",
        "knn_inner_cv = KFold(n_splits=5, shuffle=False)\n",
        "knn_grid = GridSearchCV(knn_pipeline,\n",
        "                        knn_param_grid,\n",
        "                        scoring='neg_root_mean_squared_error',\n",
        "                        cv=knn_inner_cv, n_jobs=1, verbose=1)\n",
        "ttime_knn_hpo_start = time.time()\n",
        "knn_grid = knn_grid.fit(X_train, y_train.values.ravel())\n",
        "ttime_knn_hpo_fin = time.time()\n",
        "ttime_knn_hpo = ttime_knn_hpo_fin - ttime_knn_hpo_start\n",
        "\n",
        "# Predict on test set\n",
        "y_test_pred_knn = knn_grid.predict(X_test)\n",
        "\n",
        "# Calculate RMSE for KNN\n",
        "rmse_knn = np.sqrt(mean_squared_error(y_test, y_test_pred_knn))\n",
        "print(f\"RMSE for KNN: {rmse_knn:.4f}\")\n",
        "\n",
        "# Return best hyper-parameters\n",
        "print(\"Best Hyperparameters for KNN:\", knn_grid.best_params_)\n",
        "print(\"Best Score for KNN:\", knn_grid.best_score_)"
      ]
    },
    {
      "cell_type": "code",
      "source": [
        "## Trees\n",
        "# Get all hyperparameters and their evaluation as a dataframe\n",
        "dt_results_df = pd.DataFrame(dt_grid.cv_results_).loc[:,['params', 'mean_test_score']]\n",
        "# Now, sort by score. Best hyper-parameters at the top\n",
        "dt_results_df = dt_results_df.sort_values(by=['mean_test_score'], ascending=False)\n",
        "# Print the top 10 results\n",
        "dt_results_df.iloc[:10,]"
      ],
      "metadata": {
        "colab": {
          "base_uri": "https://localhost:8080/",
          "height": 353
        },
        "id": "70FUCs89Iw3A",
        "outputId": "c32d3b20-2389-4713-ae97-31ff9d3d5226"
      },
      "execution_count": null,
      "outputs": [
        {
          "output_type": "execute_result",
          "data": {
            "text/plain": [
              "                                               params  mean_test_score\n",
              "16  {'tree__max_depth': 10, 'tree__min_samples_lea...      -448.193961\n",
              "17  {'tree__max_depth': 10, 'tree__min_samples_lea...      -449.401650\n",
              "15  {'tree__max_depth': 10, 'tree__min_samples_lea...      -451.531865\n",
              "14  {'tree__max_depth': 10, 'tree__min_samples_lea...      -457.148325\n",
              "12  {'tree__max_depth': 10, 'tree__min_samples_lea...      -458.710872\n",
              "11  {'tree__max_depth': 10, 'tree__min_samples_lea...      -461.701372\n",
              "26  {'tree__max_depth': 20, 'tree__min_samples_lea...      -467.229137\n",
              "13  {'tree__max_depth': 10, 'tree__min_samples_lea...      -467.377143\n",
              "10  {'tree__max_depth': 10, 'tree__min_samples_lea...      -468.643534\n",
              "8   {'tree__max_depth': None, 'tree__min_samples_l...      -469.136185"
            ],
            "text/html": [
              "\n",
              "  <div id=\"df-489eeabe-3f6b-4516-8ec6-ee09cd792138\" class=\"colab-df-container\">\n",
              "    <div>\n",
              "<style scoped>\n",
              "    .dataframe tbody tr th:only-of-type {\n",
              "        vertical-align: middle;\n",
              "    }\n",
              "\n",
              "    .dataframe tbody tr th {\n",
              "        vertical-align: top;\n",
              "    }\n",
              "\n",
              "    .dataframe thead th {\n",
              "        text-align: right;\n",
              "    }\n",
              "</style>\n",
              "<table border=\"1\" class=\"dataframe\">\n",
              "  <thead>\n",
              "    <tr style=\"text-align: right;\">\n",
              "      <th></th>\n",
              "      <th>params</th>\n",
              "      <th>mean_test_score</th>\n",
              "    </tr>\n",
              "  </thead>\n",
              "  <tbody>\n",
              "    <tr>\n",
              "      <th>16</th>\n",
              "      <td>{'tree__max_depth': 10, 'tree__min_samples_lea...</td>\n",
              "      <td>-448.193961</td>\n",
              "    </tr>\n",
              "    <tr>\n",
              "      <th>17</th>\n",
              "      <td>{'tree__max_depth': 10, 'tree__min_samples_lea...</td>\n",
              "      <td>-449.401650</td>\n",
              "    </tr>\n",
              "    <tr>\n",
              "      <th>15</th>\n",
              "      <td>{'tree__max_depth': 10, 'tree__min_samples_lea...</td>\n",
              "      <td>-451.531865</td>\n",
              "    </tr>\n",
              "    <tr>\n",
              "      <th>14</th>\n",
              "      <td>{'tree__max_depth': 10, 'tree__min_samples_lea...</td>\n",
              "      <td>-457.148325</td>\n",
              "    </tr>\n",
              "    <tr>\n",
              "      <th>12</th>\n",
              "      <td>{'tree__max_depth': 10, 'tree__min_samples_lea...</td>\n",
              "      <td>-458.710872</td>\n",
              "    </tr>\n",
              "    <tr>\n",
              "      <th>11</th>\n",
              "      <td>{'tree__max_depth': 10, 'tree__min_samples_lea...</td>\n",
              "      <td>-461.701372</td>\n",
              "    </tr>\n",
              "    <tr>\n",
              "      <th>26</th>\n",
              "      <td>{'tree__max_depth': 20, 'tree__min_samples_lea...</td>\n",
              "      <td>-467.229137</td>\n",
              "    </tr>\n",
              "    <tr>\n",
              "      <th>13</th>\n",
              "      <td>{'tree__max_depth': 10, 'tree__min_samples_lea...</td>\n",
              "      <td>-467.377143</td>\n",
              "    </tr>\n",
              "    <tr>\n",
              "      <th>10</th>\n",
              "      <td>{'tree__max_depth': 10, 'tree__min_samples_lea...</td>\n",
              "      <td>-468.643534</td>\n",
              "    </tr>\n",
              "    <tr>\n",
              "      <th>8</th>\n",
              "      <td>{'tree__max_depth': None, 'tree__min_samples_l...</td>\n",
              "      <td>-469.136185</td>\n",
              "    </tr>\n",
              "  </tbody>\n",
              "</table>\n",
              "</div>\n",
              "    <div class=\"colab-df-buttons\">\n",
              "\n",
              "  <div class=\"colab-df-container\">\n",
              "    <button class=\"colab-df-convert\" onclick=\"convertToInteractive('df-489eeabe-3f6b-4516-8ec6-ee09cd792138')\"\n",
              "            title=\"Convert this dataframe to an interactive table.\"\n",
              "            style=\"display:none;\">\n",
              "\n",
              "  <svg xmlns=\"http://www.w3.org/2000/svg\" height=\"24px\" viewBox=\"0 -960 960 960\">\n",
              "    <path d=\"M120-120v-720h720v720H120Zm60-500h600v-160H180v160Zm220 220h160v-160H400v160Zm0 220h160v-160H400v160ZM180-400h160v-160H180v160Zm440 0h160v-160H620v160ZM180-180h160v-160H180v160Zm440 0h160v-160H620v160Z\"/>\n",
              "  </svg>\n",
              "    </button>\n",
              "\n",
              "  <style>\n",
              "    .colab-df-container {\n",
              "      display:flex;\n",
              "      gap: 12px;\n",
              "    }\n",
              "\n",
              "    .colab-df-convert {\n",
              "      background-color: #E8F0FE;\n",
              "      border: none;\n",
              "      border-radius: 50%;\n",
              "      cursor: pointer;\n",
              "      display: none;\n",
              "      fill: #1967D2;\n",
              "      height: 32px;\n",
              "      padding: 0 0 0 0;\n",
              "      width: 32px;\n",
              "    }\n",
              "\n",
              "    .colab-df-convert:hover {\n",
              "      background-color: #E2EBFA;\n",
              "      box-shadow: 0px 1px 2px rgba(60, 64, 67, 0.3), 0px 1px 3px 1px rgba(60, 64, 67, 0.15);\n",
              "      fill: #174EA6;\n",
              "    }\n",
              "\n",
              "    .colab-df-buttons div {\n",
              "      margin-bottom: 4px;\n",
              "    }\n",
              "\n",
              "    [theme=dark] .colab-df-convert {\n",
              "      background-color: #3B4455;\n",
              "      fill: #D2E3FC;\n",
              "    }\n",
              "\n",
              "    [theme=dark] .colab-df-convert:hover {\n",
              "      background-color: #434B5C;\n",
              "      box-shadow: 0px 1px 3px 1px rgba(0, 0, 0, 0.15);\n",
              "      filter: drop-shadow(0px 1px 2px rgba(0, 0, 0, 0.3));\n",
              "      fill: #FFFFFF;\n",
              "    }\n",
              "  </style>\n",
              "\n",
              "    <script>\n",
              "      const buttonEl =\n",
              "        document.querySelector('#df-489eeabe-3f6b-4516-8ec6-ee09cd792138 button.colab-df-convert');\n",
              "      buttonEl.style.display =\n",
              "        google.colab.kernel.accessAllowed ? 'block' : 'none';\n",
              "\n",
              "      async function convertToInteractive(key) {\n",
              "        const element = document.querySelector('#df-489eeabe-3f6b-4516-8ec6-ee09cd792138');\n",
              "        const dataTable =\n",
              "          await google.colab.kernel.invokeFunction('convertToInteractive',\n",
              "                                                    [key], {});\n",
              "        if (!dataTable) return;\n",
              "\n",
              "        const docLinkHtml = 'Like what you see? Visit the ' +\n",
              "          '<a target=\"_blank\" href=https://colab.research.google.com/notebooks/data_table.ipynb>data table notebook</a>'\n",
              "          + ' to learn more about interactive tables.';\n",
              "        element.innerHTML = '';\n",
              "        dataTable['output_type'] = 'display_data';\n",
              "        await google.colab.output.renderOutput(dataTable, element);\n",
              "        const docLink = document.createElement('div');\n",
              "        docLink.innerHTML = docLinkHtml;\n",
              "        element.appendChild(docLink);\n",
              "      }\n",
              "    </script>\n",
              "  </div>\n",
              "\n",
              "\n",
              "<div id=\"df-099c55c3-013d-4739-8be0-dd61ad804900\">\n",
              "  <button class=\"colab-df-quickchart\" onclick=\"quickchart('df-099c55c3-013d-4739-8be0-dd61ad804900')\"\n",
              "            title=\"Suggest charts\"\n",
              "            style=\"display:none;\">\n",
              "\n",
              "<svg xmlns=\"http://www.w3.org/2000/svg\" height=\"24px\"viewBox=\"0 0 24 24\"\n",
              "     width=\"24px\">\n",
              "    <g>\n",
              "        <path d=\"M19 3H5c-1.1 0-2 .9-2 2v14c0 1.1.9 2 2 2h14c1.1 0 2-.9 2-2V5c0-1.1-.9-2-2-2zM9 17H7v-7h2v7zm4 0h-2V7h2v10zm4 0h-2v-4h2v4z\"/>\n",
              "    </g>\n",
              "</svg>\n",
              "  </button>\n",
              "\n",
              "<style>\n",
              "  .colab-df-quickchart {\n",
              "      --bg-color: #E8F0FE;\n",
              "      --fill-color: #1967D2;\n",
              "      --hover-bg-color: #E2EBFA;\n",
              "      --hover-fill-color: #174EA6;\n",
              "      --disabled-fill-color: #AAA;\n",
              "      --disabled-bg-color: #DDD;\n",
              "  }\n",
              "\n",
              "  [theme=dark] .colab-df-quickchart {\n",
              "      --bg-color: #3B4455;\n",
              "      --fill-color: #D2E3FC;\n",
              "      --hover-bg-color: #434B5C;\n",
              "      --hover-fill-color: #FFFFFF;\n",
              "      --disabled-bg-color: #3B4455;\n",
              "      --disabled-fill-color: #666;\n",
              "  }\n",
              "\n",
              "  .colab-df-quickchart {\n",
              "    background-color: var(--bg-color);\n",
              "    border: none;\n",
              "    border-radius: 50%;\n",
              "    cursor: pointer;\n",
              "    display: none;\n",
              "    fill: var(--fill-color);\n",
              "    height: 32px;\n",
              "    padding: 0;\n",
              "    width: 32px;\n",
              "  }\n",
              "\n",
              "  .colab-df-quickchart:hover {\n",
              "    background-color: var(--hover-bg-color);\n",
              "    box-shadow: 0 1px 2px rgba(60, 64, 67, 0.3), 0 1px 3px 1px rgba(60, 64, 67, 0.15);\n",
              "    fill: var(--button-hover-fill-color);\n",
              "  }\n",
              "\n",
              "  .colab-df-quickchart-complete:disabled,\n",
              "  .colab-df-quickchart-complete:disabled:hover {\n",
              "    background-color: var(--disabled-bg-color);\n",
              "    fill: var(--disabled-fill-color);\n",
              "    box-shadow: none;\n",
              "  }\n",
              "\n",
              "  .colab-df-spinner {\n",
              "    border: 2px solid var(--fill-color);\n",
              "    border-color: transparent;\n",
              "    border-bottom-color: var(--fill-color);\n",
              "    animation:\n",
              "      spin 1s steps(1) infinite;\n",
              "  }\n",
              "\n",
              "  @keyframes spin {\n",
              "    0% {\n",
              "      border-color: transparent;\n",
              "      border-bottom-color: var(--fill-color);\n",
              "      border-left-color: var(--fill-color);\n",
              "    }\n",
              "    20% {\n",
              "      border-color: transparent;\n",
              "      border-left-color: var(--fill-color);\n",
              "      border-top-color: var(--fill-color);\n",
              "    }\n",
              "    30% {\n",
              "      border-color: transparent;\n",
              "      border-left-color: var(--fill-color);\n",
              "      border-top-color: var(--fill-color);\n",
              "      border-right-color: var(--fill-color);\n",
              "    }\n",
              "    40% {\n",
              "      border-color: transparent;\n",
              "      border-right-color: var(--fill-color);\n",
              "      border-top-color: var(--fill-color);\n",
              "    }\n",
              "    60% {\n",
              "      border-color: transparent;\n",
              "      border-right-color: var(--fill-color);\n",
              "    }\n",
              "    80% {\n",
              "      border-color: transparent;\n",
              "      border-right-color: var(--fill-color);\n",
              "      border-bottom-color: var(--fill-color);\n",
              "    }\n",
              "    90% {\n",
              "      border-color: transparent;\n",
              "      border-bottom-color: var(--fill-color);\n",
              "    }\n",
              "  }\n",
              "</style>\n",
              "\n",
              "  <script>\n",
              "    async function quickchart(key) {\n",
              "      const quickchartButtonEl =\n",
              "        document.querySelector('#' + key + ' button');\n",
              "      quickchartButtonEl.disabled = true;  // To prevent multiple clicks.\n",
              "      quickchartButtonEl.classList.add('colab-df-spinner');\n",
              "      try {\n",
              "        const charts = await google.colab.kernel.invokeFunction(\n",
              "            'suggestCharts', [key], {});\n",
              "      } catch (error) {\n",
              "        console.error('Error during call to suggestCharts:', error);\n",
              "      }\n",
              "      quickchartButtonEl.classList.remove('colab-df-spinner');\n",
              "      quickchartButtonEl.classList.add('colab-df-quickchart-complete');\n",
              "    }\n",
              "    (() => {\n",
              "      let quickchartButtonEl =\n",
              "        document.querySelector('#df-099c55c3-013d-4739-8be0-dd61ad804900 button');\n",
              "      quickchartButtonEl.style.display =\n",
              "        google.colab.kernel.accessAllowed ? 'block' : 'none';\n",
              "    })();\n",
              "  </script>\n",
              "</div>\n",
              "    </div>\n",
              "  </div>\n"
            ]
          },
          "metadata": {},
          "execution_count": 13
        }
      ]
    },
    {
      "cell_type": "markdown",
      "source": [
        "We see in this table that the best hyper parameters for trees are:\n",
        "- a maximum depth of 10,\n",
        "- a minimum number of samples a node must contain in order to consider splitting (min_samples_leaf) of 4, and\n",
        "- a minimum number of samples required to be at a leaf node of 5.\n",
        "\n",
        "Let's now compare all the RMSEs obtained so far:"
      ],
      "metadata": {
        "id": "A0p_wRITVRYj"
      }
    },
    {
      "cell_type": "code",
      "source": [
        "# Create a DataFrame with the RMSE values\n",
        "rmse_data = {\n",
        "    'Model': ['Trees (w/o HPO)', 'KNN Standard Scaler (w/o HPO)', 'KNN Normalizer (w/o HPO)',\n",
        "              'Trees (HPO)', 'KNN (HPO)'],\n",
        "    'RMSE': [rmse1, rmse2, rmse3, rmse_dt, rmse_knn],\n",
        "    'Training times': [ttime_tree_1, ttime_knn_std, ttime_knn_norm, ttime_tree_hpo, ttime_knn_hpo]\n",
        "}\n",
        "\n",
        "rmse_df = pd.DataFrame(rmse_data)\n",
        "\n",
        "# Display the DataFrame\n",
        "print(rmse_df)"
      ],
      "metadata": {
        "colab": {
          "base_uri": "https://localhost:8080/"
        },
        "id": "2a57WcwwVUD_",
        "outputId": "153dbffc-905e-4b4b-e9cc-16b7be354059"
      },
      "execution_count": null,
      "outputs": [
        {
          "output_type": "stream",
          "name": "stdout",
          "text": [
            "                           Model        RMSE  Training times\n",
            "0                Trees (w/o HPO)  540.798849        2.595234\n",
            "1  KNN Standard Scaler (w/o HPO)  461.839763        0.096082\n",
            "2       KNN Normalizer (w/o HPO)  653.800497        0.081975\n",
            "3                    Trees (HPO)  487.517258      335.719616\n",
            "4                      KNN (HPO)  622.076867        4.481371\n"
          ]
        }
      ]
    },
    {
      "cell_type": "markdown",
      "source": [
        "We see that we get better solutions in the KNN without hyperparameter tuning, and in trees with hyperparameter tuning. This is strange, as HPO should improve RMSE. This is maybe because the most optimal parameters were not included in the possible selection.\n",
        "\n",
        "For this reason, we are taking the KNN without HPO as our best model, and we will improve it at the last part of the assignment. Moreover, the tree training time is really long, so it is not computationally optimal and we will prefer other faster models.  \n",
        "\n",
        "Determining the overall accuracy of a regressor model is a bit more complicated than that of a classification model since it depends on the scale of the data. However, with MSE, we are able to compare our models and determine the best one."
      ],
      "metadata": {
        "id": "zUtOyzEPKNQS"
      }
    },
    {
      "cell_type": "markdown",
      "source": [
        "# Feature Selection"
      ],
      "metadata": {
        "id": "IkU2SfB6TbI1"
      }
    },
    {
      "cell_type": "code",
      "source": [
        "# Define steps in the pipeline\n",
        "imputer = KNNImputer()\n",
        "scaler = StandardScaler()\n",
        "selector = SelectKBest()\n",
        "knn = KNeighborsRegressor()\n",
        "\n",
        "# Define the pipeline\n",
        "knn_pipeline = Pipeline([\n",
        "    ('impute', imputer),\n",
        "    ('scaler', scaler),\n",
        "    ('select', selector),\n",
        "    ('knn_regression', knn)\n",
        "])\n",
        "\n",
        "# Set parameter of ideal number of nearest neighbors form HPO\n",
        "knn_pipeline = knn_pipeline.set_params(**{'knn_regression__n_neighbors':21})\n",
        "\n",
        "# Define hyper-parameter space for number of features selected\n",
        "knn_param_grid = {\n",
        "    'select__k': [50, 75, 90, 100, 120, 130, 140, 150, 160, 170, 200],\n",
        "    'select__score_func': [f_classif, mutual_info_classif]\n",
        "}\n",
        "\n",
        "# Define a 5-fold cross-validation grid-search\n",
        "knn_inner_cv = KFold(n_splits=5, shuffle=False)\n",
        "knn_grid = GridSearchCV(knn_pipeline,\n",
        "                        knn_param_grid,\n",
        "                        scoring='neg_root_mean_squared_error',\n",
        "                        cv=knn_inner_cv, n_jobs=1, verbose=1)\n",
        "knn_grid = knn_grid.fit(X_train, y_train.values.ravel())\n",
        "\n",
        "# Predict on test set\n",
        "y_test_pred_knn = knn_grid.predict(X_test)\n",
        "\n",
        "# Calculate RMSE for KNN\n",
        "rmse_knn = np.sqrt(mean_squared_error(y_test, y_test_pred_knn))\n",
        "print(f\"RMSE for KNN: {rmse_knn:.4f}\")\n",
        "\n",
        "# Return best hyper-parameters\n",
        "print(\"Best Hyperparameters for KNN:\", knn_grid.best_params_)\n",
        "print(\"Best Score for KNN:\", knn_grid.best_score_)\n",
        "\n",
        "# Get best features for prediction\n",
        "feature_names_after_impute = X_train.columns\n",
        "selected_feature_names = (knn_grid.best_estimator_.named_steps['select'].\n",
        "                         get_feature_names_out(input_features = feature_names_after_impute))\n",
        "feature_scores = knn_grid.best_estimator_.named_steps['select'].scores_\n",
        "print('Selected features and scores')\n",
        "for elem in zip(selected_feature_names, feature_scores):\n",
        "  print(elem)"
      ],
      "metadata": {
        "colab": {
          "base_uri": "https://localhost:8080/"
        },
        "id": "cXNqHgTvTdrg",
        "outputId": "bc219cc7-ab76-4cff-e66a-0664ae5eaaee"
      },
      "execution_count": null,
      "outputs": [
        {
          "output_type": "stream",
          "name": "stdout",
          "text": [
            "Fitting 5 folds for each of 22 candidates, totalling 110 fits\n"
          ]
        },
        {
          "output_type": "stream",
          "name": "stderr",
          "text": [
            "/usr/local/lib/python3.10/dist-packages/sklearn/model_selection/_validation.py:378: FitFailedWarning: \n",
            "55 fits failed out of a total of 110.\n",
            "The score on these train-test partitions for these parameters will be set to nan.\n",
            "If these failures are not expected, you can try to debug them by setting error_score='raise'.\n",
            "\n",
            "Below are more details about the failures:\n",
            "--------------------------------------------------------------------------------\n",
            "55 fits failed with the following error:\n",
            "Traceback (most recent call last):\n",
            "  File \"/usr/local/lib/python3.10/dist-packages/sklearn/model_selection/_validation.py\", line 686, in _fit_and_score\n",
            "    estimator.fit(X_train, y_train, **fit_params)\n",
            "  File \"/usr/local/lib/python3.10/dist-packages/sklearn/pipeline.py\", line 401, in fit\n",
            "    Xt = self._fit(X, y, **fit_params_steps)\n",
            "  File \"/usr/local/lib/python3.10/dist-packages/sklearn/pipeline.py\", line 359, in _fit\n",
            "    X, fitted_transformer = fit_transform_one_cached(\n",
            "  File \"/usr/local/lib/python3.10/dist-packages/joblib/memory.py\", line 353, in __call__\n",
            "    return self.func(*args, **kwargs)\n",
            "  File \"/usr/local/lib/python3.10/dist-packages/sklearn/pipeline.py\", line 893, in _fit_transform_one\n",
            "    res = transformer.fit_transform(X, y, **fit_params)\n",
            "  File \"/usr/local/lib/python3.10/dist-packages/sklearn/utils/_set_output.py\", line 140, in wrapped\n",
            "    data_to_wrap = f(self, X, *args, **kwargs)\n",
            "  File \"/usr/local/lib/python3.10/dist-packages/sklearn/base.py\", line 881, in fit_transform\n",
            "    return self.fit(X, y, **fit_params).transform(X)\n",
            "  File \"/usr/local/lib/python3.10/dist-packages/sklearn/feature_selection/_univariate_selection.py\", line 472, in fit\n",
            "    score_func_ret = self.score_func(X, y)\n",
            "  File \"/usr/local/lib/python3.10/dist-packages/sklearn/feature_selection/_mutual_info.py\", line 467, in mutual_info_classif\n",
            "    check_classification_targets(y)\n",
            "  File \"/usr/local/lib/python3.10/dist-packages/sklearn/utils/multiclass.py\", line 218, in check_classification_targets\n",
            "    raise ValueError(\"Unknown label type: %r\" % y_type)\n",
            "ValueError: Unknown label type: 'continuous'\n",
            "\n",
            "  warnings.warn(some_fits_failed_message, FitFailedWarning)\n",
            "/usr/local/lib/python3.10/dist-packages/sklearn/model_selection/_search.py:952: UserWarning: One or more of the test scores are non-finite: [-395.70847655           nan -387.51782402           nan -383.46073403\n",
            "           nan -382.59558502           nan -381.91013617           nan\n",
            " -381.56524749           nan -381.71366655           nan -381.6451711\n",
            "           nan -381.09164751           nan -381.88857261           nan\n",
            " -383.79492419           nan]\n",
            "  warnings.warn(\n"
          ]
        },
        {
          "output_type": "stream",
          "name": "stdout",
          "text": [
            "RMSE for KNN: 422.0023\n",
            "Best Hyperparameters for KNN: {'select__k': 160, 'select__score_func': <function f_classif at 0x7cde04a3f0a0>}\n",
            "Best Score for KNN: -381.0916475131835\n",
            "Selected features and scores\n",
            "('p59.162.1', 0.9887633838904919)\n",
            "('p59.162.2', 1.1034936132925204)\n",
            "('p59.162.3', 1.2767850895860424)\n",
            "('p59.162.4', 1.3811509100313988)\n",
            "('p59.162.5', 1.2806910257401058)\n",
            "('p59.162.6', 1.2799351449125511)\n",
            "('p59.162.7', 1.2692418923429631)\n",
            "('p59.162.8', 1.267823587268931)\n",
            "('p59.162.9', 1.2571477002994924)\n",
            "('p59.162.10', 1.2797220879896487)\n",
            "('p59.162.11', 1.2560860822238717)\n",
            "('p59.162.12', 1.2733682628386411)\n",
            "('p59.162.13', 1.264885522780435)\n",
            "('p59.162.14', 1.2485825281987726)\n",
            "('p59.162.15', 1.2820699317449753)\n",
            "('p59.162.16', 1.2483628077851214)\n",
            "('p59.162.17', 1.2620386920883233)\n",
            "('p59.162.18', 1.2468762021061999)\n",
            "('p59.162.19', 1.2508145582148578)\n",
            "('p59.162.20', 1.2650332290210498)\n",
            "('p59.162.21', 1.2583672372932873)\n",
            "('p59.162.22', 1.2467479822997194)\n",
            "('p59.162.23', 1.254602332632785)\n",
            "('p59.162.24', 1.2427569387449051)\n",
            "('p59.162.25', 1.2611625715796775)\n",
            "('u10n.1', 1.266406194521872)\n",
            "('u10n.2', 1.2520859828156665)\n",
            "('u10n.3', 1.2457738886277152)\n",
            "('u10n.4', 1.2405851587301555)\n",
            "('u10n.5', 1.1790586860509042)\n",
            "('u10n.6', 1.1361452948787598)\n",
            "('u10n.7', 1.1652122903458761)\n",
            "('u10n.8', 1.1392991280183211)\n",
            "('u10n.9', 1.148851573156685)\n",
            "('u10n.10', 1.1796443947743809)\n",
            "('u10n.11', 1.1697791508419562)\n",
            "('u10n.12', 1.160473502412906)\n",
            "('u10n.13', 1.128619353905035)\n",
            "('u10n.14', 1.1295707518706948)\n",
            "('u10n.15', 1.1727319846205109)\n",
            "('u10n.16', 1.1506934881912274)\n",
            "('u10n.17', 1.1079906662785888)\n",
            "('u10n.18', 1.1286262116797443)\n",
            "('u10n.19', 1.097918164178761)\n",
            "('u10n.20', 1.1766066606068701)\n",
            "('u10n.21', 1.1442957818631645)\n",
            "('u10n.22', 1.1474104999949117)\n",
            "('u10n.23', 1.1390056159888946)\n",
            "('u10n.24', 1.1335566834516726)\n",
            "('u10n.25', 1.2064006402928003)\n",
            "('v10n.3', 1.134247384969378)\n",
            "('u10.1', 1.1615964524692244)\n",
            "('u10.2', 1.1696254738639953)\n",
            "('u10.3', 1.1229093913013404)\n",
            "('u10.4', 0.5572031192864941)\n",
            "('u10.5', 0.5945188292114758)\n",
            "('u10.6', 0.9195956814562263)\n",
            "('u10.7', 0.4616468568922229)\n",
            "('u10.8', 0.4540813624116204)\n",
            "('u10.9', 0.6431352267445022)\n",
            "('u10.10', 0.5576604072727213)\n",
            "('u10.11', 0.5690154437818888)\n",
            "('u10.12', 0.49642659071284306)\n",
            "('u10.13', 0.5663892870834333)\n",
            "('u10.14', 0.6138738962637075)\n",
            "('u10.15', 0.5095405790049004)\n",
            "('u10.16', 0.39445882045849145)\n",
            "('u10.17', 0.4977471756026875)\n",
            "('u10.18', 0.4557265307296753)\n",
            "('u10.19', 0.7507591928064065)\n",
            "('u10.20', 0.3496230665796895)\n",
            "('u10.21', 0.5438443034305622)\n",
            "('u10.22', 0.36635473249060874)\n",
            "('u10.23', 0.48141979053311423)\n",
            "('u10.24', 0.6348363980161417)\n",
            "('u10.25', 0.5593491849320357)\n",
            "('v10.1', 0.5243993641670979)\n",
            "('iews.1', 0.5662680937061677)\n",
            "('iews.2', 0.5337938639419235)\n",
            "('iews.3', 3.399951101169269)\n",
            "('iews.4', 3.2251643416233686)\n",
            "('iews.5', 3.2754860356969173)\n",
            "('iews.6', 3.076932800728193)\n",
            "('iews.7', 3.2289043744521737)\n",
            "('iews.8', 3.5516510538418515)\n",
            "('iews.9', 2.9997354329028196)\n",
            "('iews.10', 3.469970684281991)\n",
            "('iews.11', 2.9602862156705205)\n",
            "('iews.12', 2.986424280278673)\n",
            "('iews.13', 3.062527665426183)\n",
            "('iews.14', 3.047016122359861)\n",
            "('iews.15', 3.528824143241574)\n",
            "('iews.16', 3.0894315419145624)\n",
            "('iews.17', 2.941367989660874)\n",
            "('iews.18', 3.12550161516675)\n",
            "('iews.19', 3.3438639432716726)\n",
            "('iews.20', 2.9737991160681356)\n",
            "('iews.21', 2.910081773334715)\n",
            "('iews.22', 3.242021531620868)\n",
            "('iews.23', 3.118470110211524)\n",
            "('iews.24', 2.9985256972603183)\n",
            "('iews.25', 2.9849776255459464)\n",
            "('inss.1', 2.92194226064534)\n",
            "('inss.2', 2.940232308187921)\n",
            "('inss.3', 0.926110924279262)\n",
            "('inss.4', 0.9243267906934112)\n",
            "('inss.5', 0.9227177129338945)\n",
            "('inss.6', 0.9213704842587566)\n",
            "('inss.7', 0.9194324595889194)\n",
            "('inss.8', 0.9260407348222863)\n",
            "('inss.9', 0.9242798843963809)\n",
            "('inss.10', 0.9224714763888537)\n",
            "('inss.11', 0.9213259316527644)\n",
            "('inss.12', 0.9195603825767155)\n",
            "('inss.13', 0.9259174973354675)\n",
            "('inss.14', 0.9244522226136886)\n",
            "('inss.15', 0.9228708053409581)\n",
            "('inss.16', 0.9212734308509724)\n",
            "('inss.17', 0.9196619965534302)\n",
            "('inss.18', 0.9259804065584948)\n",
            "('inss.19', 0.9243945220751669)\n",
            "('inss.20', 0.9227912866306798)\n",
            "('inss.21', 0.9209546367536676)\n",
            "('inss.22', 0.9196480605658797)\n",
            "('inss.23', 0.9255070853732754)\n",
            "('inss.24', 0.9241687590490955)\n",
            "('inss.25', 0.9226542350465003)\n",
            "('u100.1', 0.9211428212693565)\n",
            "('u100.2', 0.9193436648077519)\n",
            "('u100.3', 0.9152164580248128)\n",
            "('u100.4', 0.9140625519825389)\n",
            "('u100.5', 0.9134555132154392)\n",
            "('u100.6', 0.9127578588423322)\n",
            "('u100.7', 0.9121825906640554)\n",
            "('u100.8', 0.915072901626681)\n",
            "('u100.9', 0.9139819239259421)\n",
            "('u100.10', 0.9133067425001742)\n",
            "('u100.11', 0.9126512759374894)\n",
            "('u100.12', 0.9124202042479705)\n",
            "('u100.13', 0.9149574215453817)\n",
            "('u100.14', 0.9137939431407703)\n",
            "('u100.15', 0.9132225125858551)\n",
            "('u100.16', 0.9126427804693769)\n",
            "('u100.17', 0.9122708078939603)\n",
            "('u100.18', 0.914955117685471)\n",
            "('u100.19', 0.9139618616363675)\n",
            "('u100.20', 0.9131500885239265)\n",
            "('u100.21', 0.9127197379500479)\n",
            "('u100.22', 0.912070263593303)\n",
            "('u100.23', 0.915145384373806)\n",
            "('u100.24', 0.9138729252333869)\n",
            "('u100.25', 0.9134211286964526)\n",
            "('v100.1', 0.9127575803168464)\n",
            "('v100.3', 0.9124908287455288)\n",
            "('v100.5', 3.191678952890106)\n",
            "('v100.6', 3.0059464942095397)\n",
            "('v100.9', 3.0348498412255682)\n",
            "('v100.19', 3.079348033761942)\n",
            "('v100.21', 3.421698818472487)\n",
            "('v100.25', 3.1304871775359286)\n"
          ]
        }
      ]
    },
    {
      "cell_type": "markdown",
      "source": [
        "Out of the 550 intitial attributes, we find that about 160 attributes are needed for the best model for predicting energy produced. That is approximately one third of the total attributes in the data set.\n",
        "\n",
        "When looking at the selected features, we find that each wind turbine for most features is significant for making predictions about energy produced. That is, no wind turbine is more useful for making predictions than others.\n",
        "\n",
        "The most signficant attributes are:\n",
        "1.   p59.162: Vertical integral of divergence of kinetic energy\n",
        "2.   u10n: Neutral wind at 10 m u-component\n",
        "3.   u10: 10 metre U wind component\n",
        "4.   iews: Instantaneous eastward turbulent surface stress\n",
        "5.   inss: Instantaneous northward turbulent surface\n",
        "6.   u100: 100 metre U wind component\n",
        "7.   v100: 100 metre V wind component\n",
        "\n",
        "That is 7 out of 22 features provided are significant. These features are related to wind. Naturally, we conclude that data related to wind is best used to predict energy production.\n",
        "\n",
        "Compared to the KNN without feature selection, feature selection improves our model with a smaller RMSE value."
      ],
      "metadata": {
        "id": "aXoZm_jqfMDS"
      }
    },
    {
      "cell_type": "markdown",
      "metadata": {
        "id": "-i1t2mh_gB3s"
      },
      "source": [
        "# Something original"
      ]
    },
    {
      "cell_type": "markdown",
      "metadata": {
        "id": "tqS_3KE87j3f"
      },
      "source": [
        "Now, we will use cross-validation in outer-evaluation instead of partitioning our available data in train-test. This way, maybe we can improve RMSE, because we will have more training data available. However, as our data has temporal order, we have to use:\n",
        "*   Time Series Split Cross-Validation\n",
        "*   Blocked Cross-Validation (computationally more expensive but avoids data leakage)\n",
        "\n",
        "In the following code we will try to use time series split cross-validation:"
      ]
    },
    {
      "cell_type": "code",
      "execution_count": null,
      "metadata": {
        "id": "4CBilJrAgJ_m",
        "colab": {
          "base_uri": "https://localhost:8080/"
        },
        "outputId": "7cd7ec74-45b7-4bca-9797-7fbc27694c7c"
      },
      "outputs": [
        {
          "output_type": "stream",
          "name": "stderr",
          "text": [
            "/usr/local/lib/python3.10/dist-packages/sklearn/feature_selection/_univariate_selection.py:112: UserWarning: Features [0] are constant.\n",
            "  warnings.warn(\"Features %s are constant.\" % constant_features_idx, UserWarning)\n",
            "/usr/local/lib/python3.10/dist-packages/sklearn/feature_selection/_univariate_selection.py:113: RuntimeWarning: invalid value encountered in divide\n",
            "  f = msb / msw\n"
          ]
        },
        {
          "output_type": "stream",
          "name": "stdout",
          "text": [
            "RMSE scores: [452.69213442 414.33267584 409.6274252  467.48610006 520.89480521]\n",
            "Average RMSE: 453.00662814539265\n",
            "Execution time for cross-validation: 1.2076830863952637\n"
          ]
        }
      ],
      "source": [
        "# data split\n",
        "y_cv = data1[data1.columns[0]].copy()\n",
        "X_cv = data1[data1.columns[1:]].copy()\n",
        "\n",
        "# Select the same features as in feature selection\n",
        "class FeatureSelector(BaseEstimator, TransformerMixin):\n",
        "    def __init__(self, selected_features):\n",
        "        self.selected_features = selected_features\n",
        "\n",
        "    def fit(self, X, y=None):\n",
        "        return self\n",
        "\n",
        "    def transform(self, X):\n",
        "        return X.loc[:, self.selected_features]\n",
        "\n",
        "# As we get the error \"UserWarning: Features [0] are constant.\", we try to solve it\n",
        "from sklearn.feature_selection import VarianceThreshold\n",
        "constant_filter = VarianceThreshold(threshold=0)\n",
        "constant_filter.fit(X_cv)\n",
        "constant_columns = [column for column in X_cv.columns\n",
        "                    if column not in\n",
        "                    X_cv.columns[constant_filter.get_support()]]\n",
        "X_cv = constant_filter.transform(X_cv)\n",
        "for column in constant_columns:\n",
        "    print(\"Removed \", column)\n",
        "\n",
        "# Define steps in the pipeline\n",
        "imputer = KNNImputer()\n",
        "scaler = StandardScaler()\n",
        "knn = KNeighborsRegressor()\n",
        "tscv = TimeSeriesSplit(n_splits=5)  # Adjust the number of splits as needed\n",
        "# selector = FeatureSelector(selected_feature_names)\n",
        "selector = SelectKBest()\n",
        "\n",
        "# Define the pipeline\n",
        "knn_pipeline_final_cv = Pipeline([\n",
        "    ('impute', imputer),\n",
        "    ('scaler', scaler),\n",
        "    ('select', selector),\n",
        "    ('knn_regression', knn)\n",
        "])\n",
        "\n",
        "# Define RMSE as the scoring metric\n",
        "scorer = make_scorer(mean_squared_error, squared=False, greater_is_better=False)\n",
        "\n",
        "# Perform cross-validation with TimeSeriesSplit\n",
        "start_time_knn_cv = time.time()\n",
        "scores_knn_cv = cross_val_score(knn_pipeline_final_cv, X_cv, y_cv, cv=tscv, scoring=scorer)\n",
        "end_time_knn_cv = time.time()\n",
        "execution_time_knn_cv = end_time_knn_cv - start_time_knn_cv\n",
        "\n",
        "print(\"RMSE scores:\", -scores_knn_cv)\n",
        "print(\"Average RMSE:\", np.mean(-scores_knn_cv))\n",
        "print(\"Execution time for cross-validation:\", execution_time_knn_cv)"
      ]
    },
    {
      "cell_type": "markdown",
      "source": [
        "The average RMSE obtained is slightly higher than the one we got before. This may be because I did not select features (the code gives me errors when I try to) or because of data leakage."
      ],
      "metadata": {
        "id": "-dgBVqLoMDbZ"
      }
    },
    {
      "cell_type": "markdown",
      "source": [
        "# Final Model"
      ],
      "metadata": {
        "id": "W23KbQGljsuT"
      }
    },
    {
      "cell_type": "code",
      "source": [
        "# Predict on test set\n",
        "y_test_pred_knn = knn_grid.predict(X_test)\n",
        "\n",
        "# Calculate RMSE for KNN\n",
        "rmse_knn = np.sqrt(mean_squared_error(y_test, y_test_pred_knn))\n",
        "print(f\"RMSE for KNN: {rmse_knn:.4f}\")"
      ],
      "metadata": {
        "colab": {
          "base_uri": "https://localhost:8080/"
        },
        "id": "6riZfNBijxOk",
        "outputId": "3397e223-4756-4cc9-b902-64a803b55304"
      },
      "execution_count": null,
      "outputs": [
        {
          "output_type": "stream",
          "name": "stdout",
          "text": [
            "RMSE for KNN: 422.0023\n"
          ]
        }
      ]
    },
    {
      "cell_type": "markdown",
      "source": [
        "The KNN with HPO for k-nearest neighbors AND feature selection gives the lower RMSE value of about 422. This is better than KNN without HPO, which was strangely better than KNN with HPO for k-nearest neighbors only."
      ],
      "metadata": {
        "id": "kxUecRTOktqx"
      }
    },
    {
      "cell_type": "code",
      "source": [
        "# Separate predictors from response variable for training set\n",
        "y = data1[['energy']].copy()\n",
        "X = data1.drop('energy', axis=1)\n",
        "\n",
        "# Create the final model\n",
        "\n",
        "# Define steps in the pipeline\n",
        "imputer = KNNImputer()\n",
        "scaler = StandardScaler()\n",
        "selector = SelectKBest()\n",
        "knn = KNeighborsRegressor()\n",
        "\n",
        "# Define the pipeline\n",
        "knn_pipeline_final = Pipeline([\n",
        "    ('impute', imputer),\n",
        "    ('scaler', scaler),\n",
        "    ('select', selector),\n",
        "    ('knn_regression', knn)\n",
        "])\n",
        "\n",
        "# Set parameter based on HPO\n",
        "knn_pipeline_final = knn_pipeline_final.set_params(**{'knn_regression__n_neighbors':21})\n",
        "knn_pipeline_final = knn_pipeline_final.set_params(**{'select__k': 160})\n",
        "knn_pipeline_final = knn_pipeline_final.set_params(**{'select__score_func': f_classif})\n",
        "\n",
        "# Fit model with all the data\n",
        "knn_pipeline_final = knn_pipeline_final.fit(X, y.values.ravel())"
      ],
      "metadata": {
        "id": "EMQ3Dy2wl08W"
      },
      "execution_count": null,
      "outputs": []
    },
    {
      "cell_type": "markdown",
      "source": [
        "We have the fitted final model. Let's make predictions on the competition data set."
      ],
      "metadata": {
        "id": "uRqPNqLgre6L"
      }
    },
    {
      "cell_type": "code",
      "source": [
        "data_competition = pd.read_csv('wind_competition.csv.gzip', compression=\"gzip\")\n",
        "\n",
        "# Make predictions on competition data\n",
        "y_pred_final = knn_pipeline_final.predict(data_competition)"
      ],
      "metadata": {
        "id": "1lUSi3aArdmm"
      },
      "execution_count": null,
      "outputs": []
    },
    {
      "cell_type": "code",
      "source": [
        "# Save the final model to a file using joblib\n",
        "joblib.dump(knn_pipeline_final, 'final_model.joblib')\n",
        "\n",
        "# Save the predictions to a text file\n",
        "np.savetxt('predictions.txt', y_pred_final)"
      ],
      "metadata": {
        "id": "GQ0bIozLNSYa"
      },
      "execution_count": null,
      "outputs": []
    },
    {
      "cell_type": "markdown",
      "metadata": {
        "id": "PQ1zitka9geA"
      },
      "source": [
        "# References\n",
        "\n",
        "\n",
        "*   Godalle, E. (2023) How to deal with missing values in a timeseries in Python?, ProjectPro. Available at: https://www.projectpro.io/recipes/deal-with-missing-values-in-timeseries-in-python (Accessed: 31 December 2023).\n",
        "*   Shrivastava, S. (2020) Cross validation in Time Series, Medium. Available at: https://medium.com/@soumyachess1496/cross-validation-in-time-series-566ae4981ce4 (Accessed: 31 December 2023).\n",
        "* Chat GPT (see Chat GPT usage report)\n",
        "\n"
      ]
    }
  ],
  "metadata": {
    "colab": {
      "provenance": [],
      "include_colab_link": true
    },
    "kernelspec": {
      "display_name": "Python 3",
      "name": "python3"
    },
    "language_info": {
      "name": "python"
    }
  },
  "nbformat": 4,
  "nbformat_minor": 0
}